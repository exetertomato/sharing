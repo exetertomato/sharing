{
 "cells": [
  {
   "cell_type": "markdown",
   "id": "42c9677b",
   "metadata": {},
   "source": [
    "# My jupyter notebook on IBM watson studio"
   ]
  },
  {
   "cell_type": "markdown",
   "id": "24431a9f",
   "metadata": {},
   "source": [
    "**jinbeibei**"
   ]
  },
  {
   "cell_type": "markdown",
   "id": "bc798a2f",
   "metadata": {},
   "source": [
    "want to be a part in digital science industry"
   ]
  },
  {
   "cell_type": "markdown",
   "id": "2f4c5f4e",
   "metadata": {},
   "source": [
    "*I'm interested in data science because i want to work in the industry*"
   ]
  },
  {
   "cell_type": "markdown",
   "id": "dba8aac8",
   "metadata": {},
   "source": [
    "### The following code will count 1 and 1"
   ]
  },
  {
   "cell_type": "code",
   "execution_count": 2,
   "id": "ef21206c",
   "metadata": {},
   "outputs": [
    {
     "data": {
      "text/plain": [
       "2"
      ]
     },
     "execution_count": 2,
     "metadata": {},
     "output_type": "execute_result"
    }
   ],
   "source": [
    "1+1"
   ]
  },
  {
   "cell_type": "markdown",
   "id": "1b9bbeb1",
   "metadata": {},
   "source": [
    "***\n",
    "\n",
    "some important news\n",
    "\n",
    "***"
   ]
  },
  {
   "cell_type": "markdown",
   "id": "6d2e0c43",
   "metadata": {},
   "source": [
    "`I'm a human`"
   ]
  },
  {
   "cell_type": "markdown",
   "id": "e33fe023",
   "metadata": {},
   "source": [
    "1. fish\n",
    "2. egg\n",
    "3. chicken"
   ]
  },
  {
   "cell_type": "code",
   "execution_count": null,
   "id": "26cd2969",
   "metadata": {},
   "outputs": [],
   "source": []
  }
 ],
 "metadata": {
  "kernelspec": {
   "display_name": "Python 3",
   "language": "python",
   "name": "python3"
  },
  "language_info": {
   "codemirror_mode": {
    "name": "ipython",
    "version": 3
   },
   "file_extension": ".py",
   "mimetype": "text/x-python",
   "name": "python",
   "nbconvert_exporter": "python",
   "pygments_lexer": "ipython3",
   "version": "3.6.13"
  }
 },
 "nbformat": 4,
 "nbformat_minor": 5
}
